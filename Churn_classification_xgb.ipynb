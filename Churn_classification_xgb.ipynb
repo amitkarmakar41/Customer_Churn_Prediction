{
  "nbformat": 4,
  "nbformat_minor": 0,
  "metadata": {
    "colab": {
      "name": "Churn_classification_xgb",
      "provenance": []
    },
    "kernelspec": {
      "name": "python3",
      "display_name": "Python 3"
    },
    "language_info": {
      "name": "python"
    }
  },
  "cells": [
    {
      "cell_type": "code",
      "metadata": {
        "id": "R4RJvMUYIz1r"
      },
      "source": [
        "import numpy as np\n",
        "import pandas as pd\n",
        "import matplotlib.pyplot as plt\n",
        "%matplotlib inline"
      ],
      "execution_count": 1,
      "outputs": []
    },
    {
      "cell_type": "code",
      "metadata": {
        "id": "X7fbzbCjJbWL"
      },
      "source": [
        "df = pd.read_csv(\"/content/churn_data.txt\")"
      ],
      "execution_count": 2,
      "outputs": []
    },
    {
      "cell_type": "code",
      "metadata": {
        "colab": {
          "base_uri": "https://localhost:8080/",
          "height": 326
        },
        "id": "ilOmTknpJhfJ",
        "outputId": "2ff42735-0a08-4265-8002-540c6ff9656c"
      },
      "source": [
        "df.head(5)"
      ],
      "execution_count": 3,
      "outputs": [
        {
          "output_type": "execute_result",
          "data": {
            "text/html": [
              "<div>\n",
              "<style scoped>\n",
              "    .dataframe tbody tr th:only-of-type {\n",
              "        vertical-align: middle;\n",
              "    }\n",
              "\n",
              "    .dataframe tbody tr th {\n",
              "        vertical-align: top;\n",
              "    }\n",
              "\n",
              "    .dataframe thead th {\n",
              "        text-align: right;\n",
              "    }\n",
              "</style>\n",
              "<table border=\"1\" class=\"dataframe\">\n",
              "  <thead>\n",
              "    <tr style=\"text-align: right;\">\n",
              "      <th></th>\n",
              "      <th>State</th>\n",
              "      <th>Account Length</th>\n",
              "      <th>Area Code</th>\n",
              "      <th>Phone</th>\n",
              "      <th>Int'l Plan</th>\n",
              "      <th>VMail Plan</th>\n",
              "      <th>VMail Message</th>\n",
              "      <th>Day Mins</th>\n",
              "      <th>Day Calls</th>\n",
              "      <th>Day Charge</th>\n",
              "      <th>Eve Mins</th>\n",
              "      <th>Eve Calls</th>\n",
              "      <th>Eve Charge</th>\n",
              "      <th>Night Mins</th>\n",
              "      <th>Night Calls</th>\n",
              "      <th>Night Charge</th>\n",
              "      <th>Intl Mins</th>\n",
              "      <th>Intl Calls</th>\n",
              "      <th>Intl Charge</th>\n",
              "      <th>CustServ Calls</th>\n",
              "      <th>Churn?</th>\n",
              "    </tr>\n",
              "  </thead>\n",
              "  <tbody>\n",
              "    <tr>\n",
              "      <th>0</th>\n",
              "      <td>PA</td>\n",
              "      <td>163</td>\n",
              "      <td>806</td>\n",
              "      <td>403-2562</td>\n",
              "      <td>no</td>\n",
              "      <td>yes</td>\n",
              "      <td>300</td>\n",
              "      <td>8.162204</td>\n",
              "      <td>3</td>\n",
              "      <td>7.579174</td>\n",
              "      <td>3.933035</td>\n",
              "      <td>4</td>\n",
              "      <td>6.508639</td>\n",
              "      <td>4.065759</td>\n",
              "      <td>100</td>\n",
              "      <td>5.111624</td>\n",
              "      <td>4.928160</td>\n",
              "      <td>6</td>\n",
              "      <td>5.673203</td>\n",
              "      <td>3</td>\n",
              "      <td>True.</td>\n",
              "    </tr>\n",
              "    <tr>\n",
              "      <th>1</th>\n",
              "      <td>SC</td>\n",
              "      <td>15</td>\n",
              "      <td>836</td>\n",
              "      <td>158-8416</td>\n",
              "      <td>yes</td>\n",
              "      <td>no</td>\n",
              "      <td>0</td>\n",
              "      <td>10.018993</td>\n",
              "      <td>4</td>\n",
              "      <td>4.226289</td>\n",
              "      <td>2.325005</td>\n",
              "      <td>0</td>\n",
              "      <td>9.972592</td>\n",
              "      <td>7.141040</td>\n",
              "      <td>200</td>\n",
              "      <td>6.436188</td>\n",
              "      <td>3.221748</td>\n",
              "      <td>6</td>\n",
              "      <td>2.559749</td>\n",
              "      <td>8</td>\n",
              "      <td>False.</td>\n",
              "    </tr>\n",
              "    <tr>\n",
              "      <th>2</th>\n",
              "      <td>MO</td>\n",
              "      <td>131</td>\n",
              "      <td>777</td>\n",
              "      <td>896-6253</td>\n",
              "      <td>no</td>\n",
              "      <td>yes</td>\n",
              "      <td>300</td>\n",
              "      <td>4.708490</td>\n",
              "      <td>3</td>\n",
              "      <td>4.768160</td>\n",
              "      <td>4.537466</td>\n",
              "      <td>3</td>\n",
              "      <td>4.566715</td>\n",
              "      <td>5.363235</td>\n",
              "      <td>100</td>\n",
              "      <td>5.142451</td>\n",
              "      <td>7.139023</td>\n",
              "      <td>2</td>\n",
              "      <td>6.254157</td>\n",
              "      <td>4</td>\n",
              "      <td>False.</td>\n",
              "    </tr>\n",
              "    <tr>\n",
              "      <th>3</th>\n",
              "      <td>WY</td>\n",
              "      <td>75</td>\n",
              "      <td>878</td>\n",
              "      <td>817-5729</td>\n",
              "      <td>yes</td>\n",
              "      <td>yes</td>\n",
              "      <td>700</td>\n",
              "      <td>1.268734</td>\n",
              "      <td>3</td>\n",
              "      <td>2.567642</td>\n",
              "      <td>2.528748</td>\n",
              "      <td>5</td>\n",
              "      <td>2.333624</td>\n",
              "      <td>3.773586</td>\n",
              "      <td>450</td>\n",
              "      <td>3.814413</td>\n",
              "      <td>2.245779</td>\n",
              "      <td>6</td>\n",
              "      <td>1.080692</td>\n",
              "      <td>6</td>\n",
              "      <td>False.</td>\n",
              "    </tr>\n",
              "    <tr>\n",
              "      <th>4</th>\n",
              "      <td>WY</td>\n",
              "      <td>146</td>\n",
              "      <td>878</td>\n",
              "      <td>450-4942</td>\n",
              "      <td>yes</td>\n",
              "      <td>no</td>\n",
              "      <td>0</td>\n",
              "      <td>2.696177</td>\n",
              "      <td>3</td>\n",
              "      <td>5.908916</td>\n",
              "      <td>6.015337</td>\n",
              "      <td>3</td>\n",
              "      <td>3.670408</td>\n",
              "      <td>3.751673</td>\n",
              "      <td>250</td>\n",
              "      <td>2.796812</td>\n",
              "      <td>6.905545</td>\n",
              "      <td>4</td>\n",
              "      <td>7.134343</td>\n",
              "      <td>6</td>\n",
              "      <td>True.</td>\n",
              "    </tr>\n",
              "  </tbody>\n",
              "</table>\n",
              "</div>"
            ],
            "text/plain": [
              "  State  Account Length  Area Code  ... Intl Charge CustServ Calls  Churn?\n",
              "0    PA             163        806  ...    5.673203              3   True.\n",
              "1    SC              15        836  ...    2.559749              8  False.\n",
              "2    MO             131        777  ...    6.254157              4  False.\n",
              "3    WY              75        878  ...    1.080692              6  False.\n",
              "4    WY             146        878  ...    7.134343              6   True.\n",
              "\n",
              "[5 rows x 21 columns]"
            ]
          },
          "metadata": {},
          "execution_count": 3
        }
      ]
    },
    {
      "cell_type": "code",
      "metadata": {
        "colab": {
          "base_uri": "https://localhost:8080/"
        },
        "id": "wZdtcsrrJpay",
        "outputId": "544233ce-d3a3-41e0-b9e3-84a432c172e4"
      },
      "source": [
        "df.info()"
      ],
      "execution_count": 4,
      "outputs": [
        {
          "output_type": "stream",
          "name": "stdout",
          "text": [
            "<class 'pandas.core.frame.DataFrame'>\n",
            "RangeIndex: 5000 entries, 0 to 4999\n",
            "Data columns (total 21 columns):\n",
            " #   Column          Non-Null Count  Dtype  \n",
            "---  ------          --------------  -----  \n",
            " 0   State           5000 non-null   object \n",
            " 1   Account Length  5000 non-null   int64  \n",
            " 2   Area Code       5000 non-null   int64  \n",
            " 3   Phone           5000 non-null   object \n",
            " 4   Int'l Plan      5000 non-null   object \n",
            " 5   VMail Plan      5000 non-null   object \n",
            " 6   VMail Message   5000 non-null   int64  \n",
            " 7   Day Mins        5000 non-null   float64\n",
            " 8   Day Calls       5000 non-null   int64  \n",
            " 9   Day Charge      5000 non-null   float64\n",
            " 10  Eve Mins        5000 non-null   float64\n",
            " 11  Eve Calls       5000 non-null   int64  \n",
            " 12  Eve Charge      5000 non-null   float64\n",
            " 13  Night Mins      5000 non-null   float64\n",
            " 14  Night Calls     5000 non-null   int64  \n",
            " 15  Night Charge    5000 non-null   float64\n",
            " 16  Intl Mins       5000 non-null   float64\n",
            " 17  Intl Calls      5000 non-null   int64  \n",
            " 18  Intl Charge     5000 non-null   float64\n",
            " 19  CustServ Calls  5000 non-null   int64  \n",
            " 20  Churn?          5000 non-null   object \n",
            "dtypes: float64(8), int64(8), object(5)\n",
            "memory usage: 820.4+ KB\n"
          ]
        }
      ]
    },
    {
      "cell_type": "code",
      "metadata": {
        "id": "pHemnHwJLpUs"
      },
      "source": [
        "df.drop(['State','Phone'], axis=1, inplace=True)"
      ],
      "execution_count": 5,
      "outputs": []
    },
    {
      "cell_type": "code",
      "metadata": {
        "colab": {
          "base_uri": "https://localhost:8080/",
          "height": 241
        },
        "id": "ozxhvMIvNW_W",
        "outputId": "11bc7642-28d3-4d85-8eb6-39dc879b57bb"
      },
      "source": [
        "df.head()"
      ],
      "execution_count": 6,
      "outputs": [
        {
          "output_type": "execute_result",
          "data": {
            "text/html": [
              "<div>\n",
              "<style scoped>\n",
              "    .dataframe tbody tr th:only-of-type {\n",
              "        vertical-align: middle;\n",
              "    }\n",
              "\n",
              "    .dataframe tbody tr th {\n",
              "        vertical-align: top;\n",
              "    }\n",
              "\n",
              "    .dataframe thead th {\n",
              "        text-align: right;\n",
              "    }\n",
              "</style>\n",
              "<table border=\"1\" class=\"dataframe\">\n",
              "  <thead>\n",
              "    <tr style=\"text-align: right;\">\n",
              "      <th></th>\n",
              "      <th>Account Length</th>\n",
              "      <th>Area Code</th>\n",
              "      <th>Int'l Plan</th>\n",
              "      <th>VMail Plan</th>\n",
              "      <th>VMail Message</th>\n",
              "      <th>Day Mins</th>\n",
              "      <th>Day Calls</th>\n",
              "      <th>Day Charge</th>\n",
              "      <th>Eve Mins</th>\n",
              "      <th>Eve Calls</th>\n",
              "      <th>Eve Charge</th>\n",
              "      <th>Night Mins</th>\n",
              "      <th>Night Calls</th>\n",
              "      <th>Night Charge</th>\n",
              "      <th>Intl Mins</th>\n",
              "      <th>Intl Calls</th>\n",
              "      <th>Intl Charge</th>\n",
              "      <th>CustServ Calls</th>\n",
              "      <th>Churn?</th>\n",
              "    </tr>\n",
              "  </thead>\n",
              "  <tbody>\n",
              "    <tr>\n",
              "      <th>0</th>\n",
              "      <td>163</td>\n",
              "      <td>806</td>\n",
              "      <td>no</td>\n",
              "      <td>yes</td>\n",
              "      <td>300</td>\n",
              "      <td>8.162204</td>\n",
              "      <td>3</td>\n",
              "      <td>7.579174</td>\n",
              "      <td>3.933035</td>\n",
              "      <td>4</td>\n",
              "      <td>6.508639</td>\n",
              "      <td>4.065759</td>\n",
              "      <td>100</td>\n",
              "      <td>5.111624</td>\n",
              "      <td>4.928160</td>\n",
              "      <td>6</td>\n",
              "      <td>5.673203</td>\n",
              "      <td>3</td>\n",
              "      <td>True.</td>\n",
              "    </tr>\n",
              "    <tr>\n",
              "      <th>1</th>\n",
              "      <td>15</td>\n",
              "      <td>836</td>\n",
              "      <td>yes</td>\n",
              "      <td>no</td>\n",
              "      <td>0</td>\n",
              "      <td>10.018993</td>\n",
              "      <td>4</td>\n",
              "      <td>4.226289</td>\n",
              "      <td>2.325005</td>\n",
              "      <td>0</td>\n",
              "      <td>9.972592</td>\n",
              "      <td>7.141040</td>\n",
              "      <td>200</td>\n",
              "      <td>6.436188</td>\n",
              "      <td>3.221748</td>\n",
              "      <td>6</td>\n",
              "      <td>2.559749</td>\n",
              "      <td>8</td>\n",
              "      <td>False.</td>\n",
              "    </tr>\n",
              "    <tr>\n",
              "      <th>2</th>\n",
              "      <td>131</td>\n",
              "      <td>777</td>\n",
              "      <td>no</td>\n",
              "      <td>yes</td>\n",
              "      <td>300</td>\n",
              "      <td>4.708490</td>\n",
              "      <td>3</td>\n",
              "      <td>4.768160</td>\n",
              "      <td>4.537466</td>\n",
              "      <td>3</td>\n",
              "      <td>4.566715</td>\n",
              "      <td>5.363235</td>\n",
              "      <td>100</td>\n",
              "      <td>5.142451</td>\n",
              "      <td>7.139023</td>\n",
              "      <td>2</td>\n",
              "      <td>6.254157</td>\n",
              "      <td>4</td>\n",
              "      <td>False.</td>\n",
              "    </tr>\n",
              "    <tr>\n",
              "      <th>3</th>\n",
              "      <td>75</td>\n",
              "      <td>878</td>\n",
              "      <td>yes</td>\n",
              "      <td>yes</td>\n",
              "      <td>700</td>\n",
              "      <td>1.268734</td>\n",
              "      <td>3</td>\n",
              "      <td>2.567642</td>\n",
              "      <td>2.528748</td>\n",
              "      <td>5</td>\n",
              "      <td>2.333624</td>\n",
              "      <td>3.773586</td>\n",
              "      <td>450</td>\n",
              "      <td>3.814413</td>\n",
              "      <td>2.245779</td>\n",
              "      <td>6</td>\n",
              "      <td>1.080692</td>\n",
              "      <td>6</td>\n",
              "      <td>False.</td>\n",
              "    </tr>\n",
              "    <tr>\n",
              "      <th>4</th>\n",
              "      <td>146</td>\n",
              "      <td>878</td>\n",
              "      <td>yes</td>\n",
              "      <td>no</td>\n",
              "      <td>0</td>\n",
              "      <td>2.696177</td>\n",
              "      <td>3</td>\n",
              "      <td>5.908916</td>\n",
              "      <td>6.015337</td>\n",
              "      <td>3</td>\n",
              "      <td>3.670408</td>\n",
              "      <td>3.751673</td>\n",
              "      <td>250</td>\n",
              "      <td>2.796812</td>\n",
              "      <td>6.905545</td>\n",
              "      <td>4</td>\n",
              "      <td>7.134343</td>\n",
              "      <td>6</td>\n",
              "      <td>True.</td>\n",
              "    </tr>\n",
              "  </tbody>\n",
              "</table>\n",
              "</div>"
            ],
            "text/plain": [
              "   Account Length  Area Code Int'l Plan  ... Intl Charge  CustServ Calls  Churn?\n",
              "0             163        806         no  ...    5.673203               3   True.\n",
              "1              15        836        yes  ...    2.559749               8  False.\n",
              "2             131        777         no  ...    6.254157               4  False.\n",
              "3              75        878        yes  ...    1.080692               6  False.\n",
              "4             146        878        yes  ...    7.134343               6   True.\n",
              "\n",
              "[5 rows x 19 columns]"
            ]
          },
          "metadata": {},
          "execution_count": 6
        }
      ]
    },
    {
      "cell_type": "code",
      "metadata": {
        "colab": {
          "base_uri": "https://localhost:8080/"
        },
        "id": "Ky8LFXImNc1P",
        "outputId": "ed79305d-496d-4c75-c7ab-d2fa79a20cb6"
      },
      "source": [
        "df.isnull().sum()"
      ],
      "execution_count": 7,
      "outputs": [
        {
          "output_type": "execute_result",
          "data": {
            "text/plain": [
              "Account Length    0\n",
              "Area Code         0\n",
              "Int'l Plan        0\n",
              "VMail Plan        0\n",
              "VMail Message     0\n",
              "Day Mins          0\n",
              "Day Calls         0\n",
              "Day Charge        0\n",
              "Eve Mins          0\n",
              "Eve Calls         0\n",
              "Eve Charge        0\n",
              "Night Mins        0\n",
              "Night Calls       0\n",
              "Night Charge      0\n",
              "Intl Mins         0\n",
              "Intl Calls        0\n",
              "Intl Charge       0\n",
              "CustServ Calls    0\n",
              "Churn?            0\n",
              "dtype: int64"
            ]
          },
          "metadata": {},
          "execution_count": 7
        }
      ]
    },
    {
      "cell_type": "code",
      "metadata": {
        "id": "9tV1LyXoN5ny"
      },
      "source": [
        "df = pd.get_dummies(df,drop_first=True)"
      ],
      "execution_count": 8,
      "outputs": []
    },
    {
      "cell_type": "code",
      "metadata": {
        "colab": {
          "base_uri": "https://localhost:8080/",
          "height": 241
        },
        "id": "cESzhUlkOwrH",
        "outputId": "64338092-1968-4c10-ebcc-736df6ac853c"
      },
      "source": [
        "df.head(5)"
      ],
      "execution_count": 9,
      "outputs": [
        {
          "output_type": "execute_result",
          "data": {
            "text/html": [
              "<div>\n",
              "<style scoped>\n",
              "    .dataframe tbody tr th:only-of-type {\n",
              "        vertical-align: middle;\n",
              "    }\n",
              "\n",
              "    .dataframe tbody tr th {\n",
              "        vertical-align: top;\n",
              "    }\n",
              "\n",
              "    .dataframe thead th {\n",
              "        text-align: right;\n",
              "    }\n",
              "</style>\n",
              "<table border=\"1\" class=\"dataframe\">\n",
              "  <thead>\n",
              "    <tr style=\"text-align: right;\">\n",
              "      <th></th>\n",
              "      <th>Account Length</th>\n",
              "      <th>Area Code</th>\n",
              "      <th>VMail Message</th>\n",
              "      <th>Day Mins</th>\n",
              "      <th>Day Calls</th>\n",
              "      <th>Day Charge</th>\n",
              "      <th>Eve Mins</th>\n",
              "      <th>Eve Calls</th>\n",
              "      <th>Eve Charge</th>\n",
              "      <th>Night Mins</th>\n",
              "      <th>Night Calls</th>\n",
              "      <th>Night Charge</th>\n",
              "      <th>Intl Mins</th>\n",
              "      <th>Intl Calls</th>\n",
              "      <th>Intl Charge</th>\n",
              "      <th>CustServ Calls</th>\n",
              "      <th>Int'l Plan_yes</th>\n",
              "      <th>VMail Plan_yes</th>\n",
              "      <th>Churn?_True.</th>\n",
              "    </tr>\n",
              "  </thead>\n",
              "  <tbody>\n",
              "    <tr>\n",
              "      <th>0</th>\n",
              "      <td>163</td>\n",
              "      <td>806</td>\n",
              "      <td>300</td>\n",
              "      <td>8.162204</td>\n",
              "      <td>3</td>\n",
              "      <td>7.579174</td>\n",
              "      <td>3.933035</td>\n",
              "      <td>4</td>\n",
              "      <td>6.508639</td>\n",
              "      <td>4.065759</td>\n",
              "      <td>100</td>\n",
              "      <td>5.111624</td>\n",
              "      <td>4.928160</td>\n",
              "      <td>6</td>\n",
              "      <td>5.673203</td>\n",
              "      <td>3</td>\n",
              "      <td>0</td>\n",
              "      <td>1</td>\n",
              "      <td>1</td>\n",
              "    </tr>\n",
              "    <tr>\n",
              "      <th>1</th>\n",
              "      <td>15</td>\n",
              "      <td>836</td>\n",
              "      <td>0</td>\n",
              "      <td>10.018993</td>\n",
              "      <td>4</td>\n",
              "      <td>4.226289</td>\n",
              "      <td>2.325005</td>\n",
              "      <td>0</td>\n",
              "      <td>9.972592</td>\n",
              "      <td>7.141040</td>\n",
              "      <td>200</td>\n",
              "      <td>6.436188</td>\n",
              "      <td>3.221748</td>\n",
              "      <td>6</td>\n",
              "      <td>2.559749</td>\n",
              "      <td>8</td>\n",
              "      <td>1</td>\n",
              "      <td>0</td>\n",
              "      <td>0</td>\n",
              "    </tr>\n",
              "    <tr>\n",
              "      <th>2</th>\n",
              "      <td>131</td>\n",
              "      <td>777</td>\n",
              "      <td>300</td>\n",
              "      <td>4.708490</td>\n",
              "      <td>3</td>\n",
              "      <td>4.768160</td>\n",
              "      <td>4.537466</td>\n",
              "      <td>3</td>\n",
              "      <td>4.566715</td>\n",
              "      <td>5.363235</td>\n",
              "      <td>100</td>\n",
              "      <td>5.142451</td>\n",
              "      <td>7.139023</td>\n",
              "      <td>2</td>\n",
              "      <td>6.254157</td>\n",
              "      <td>4</td>\n",
              "      <td>0</td>\n",
              "      <td>1</td>\n",
              "      <td>0</td>\n",
              "    </tr>\n",
              "    <tr>\n",
              "      <th>3</th>\n",
              "      <td>75</td>\n",
              "      <td>878</td>\n",
              "      <td>700</td>\n",
              "      <td>1.268734</td>\n",
              "      <td>3</td>\n",
              "      <td>2.567642</td>\n",
              "      <td>2.528748</td>\n",
              "      <td>5</td>\n",
              "      <td>2.333624</td>\n",
              "      <td>3.773586</td>\n",
              "      <td>450</td>\n",
              "      <td>3.814413</td>\n",
              "      <td>2.245779</td>\n",
              "      <td>6</td>\n",
              "      <td>1.080692</td>\n",
              "      <td>6</td>\n",
              "      <td>1</td>\n",
              "      <td>1</td>\n",
              "      <td>0</td>\n",
              "    </tr>\n",
              "    <tr>\n",
              "      <th>4</th>\n",
              "      <td>146</td>\n",
              "      <td>878</td>\n",
              "      <td>0</td>\n",
              "      <td>2.696177</td>\n",
              "      <td>3</td>\n",
              "      <td>5.908916</td>\n",
              "      <td>6.015337</td>\n",
              "      <td>3</td>\n",
              "      <td>3.670408</td>\n",
              "      <td>3.751673</td>\n",
              "      <td>250</td>\n",
              "      <td>2.796812</td>\n",
              "      <td>6.905545</td>\n",
              "      <td>4</td>\n",
              "      <td>7.134343</td>\n",
              "      <td>6</td>\n",
              "      <td>1</td>\n",
              "      <td>0</td>\n",
              "      <td>1</td>\n",
              "    </tr>\n",
              "  </tbody>\n",
              "</table>\n",
              "</div>"
            ],
            "text/plain": [
              "   Account Length  Area Code  ...  VMail Plan_yes  Churn?_True.\n",
              "0             163        806  ...               1             1\n",
              "1              15        836  ...               0             0\n",
              "2             131        777  ...               1             0\n",
              "3              75        878  ...               1             0\n",
              "4             146        878  ...               0             1\n",
              "\n",
              "[5 rows x 19 columns]"
            ]
          },
          "metadata": {},
          "execution_count": 9
        }
      ]
    },
    {
      "cell_type": "code",
      "metadata": {
        "colab": {
          "base_uri": "https://localhost:8080/"
        },
        "id": "LPiLtk26OoGd",
        "outputId": "53d9e535-757d-48ed-c9f4-2ab3778b1e06"
      },
      "source": [
        "df.info()"
      ],
      "execution_count": 10,
      "outputs": [
        {
          "output_type": "stream",
          "name": "stdout",
          "text": [
            "<class 'pandas.core.frame.DataFrame'>\n",
            "RangeIndex: 5000 entries, 0 to 4999\n",
            "Data columns (total 19 columns):\n",
            " #   Column          Non-Null Count  Dtype  \n",
            "---  ------          --------------  -----  \n",
            " 0   Account Length  5000 non-null   int64  \n",
            " 1   Area Code       5000 non-null   int64  \n",
            " 2   VMail Message   5000 non-null   int64  \n",
            " 3   Day Mins        5000 non-null   float64\n",
            " 4   Day Calls       5000 non-null   int64  \n",
            " 5   Day Charge      5000 non-null   float64\n",
            " 6   Eve Mins        5000 non-null   float64\n",
            " 7   Eve Calls       5000 non-null   int64  \n",
            " 8   Eve Charge      5000 non-null   float64\n",
            " 9   Night Mins      5000 non-null   float64\n",
            " 10  Night Calls     5000 non-null   int64  \n",
            " 11  Night Charge    5000 non-null   float64\n",
            " 12  Intl Mins       5000 non-null   float64\n",
            " 13  Intl Calls      5000 non-null   int64  \n",
            " 14  Intl Charge     5000 non-null   float64\n",
            " 15  CustServ Calls  5000 non-null   int64  \n",
            " 16  Int'l Plan_yes  5000 non-null   uint8  \n",
            " 17  VMail Plan_yes  5000 non-null   uint8  \n",
            " 18  Churn?_True.    5000 non-null   uint8  \n",
            "dtypes: float64(8), int64(8), uint8(3)\n",
            "memory usage: 639.8 KB\n"
          ]
        }
      ]
    },
    {
      "cell_type": "code",
      "metadata": {
        "id": "A-bdJLJnPEfQ"
      },
      "source": [
        "X = df.iloc[:,:-1].values"
      ],
      "execution_count": 11,
      "outputs": []
    },
    {
      "cell_type": "code",
      "metadata": {
        "id": "TeYkgnlJPKUe"
      },
      "source": [
        "y = df.iloc[:,-1].values"
      ],
      "execution_count": 12,
      "outputs": []
    },
    {
      "cell_type": "code",
      "metadata": {
        "colab": {
          "base_uri": "https://localhost:8080/"
        },
        "id": "g1pXIvZGPO_o",
        "outputId": "db62ceba-afff-43aa-bb23-07d94d57fb06"
      },
      "source": [
        "X.shape"
      ],
      "execution_count": 13,
      "outputs": [
        {
          "output_type": "execute_result",
          "data": {
            "text/plain": [
              "(5000, 18)"
            ]
          },
          "metadata": {},
          "execution_count": 13
        }
      ]
    },
    {
      "cell_type": "code",
      "metadata": {
        "colab": {
          "base_uri": "https://localhost:8080/"
        },
        "id": "Dq_bz8LlPiGh",
        "outputId": "7db52405-13e9-4213-eb04-48ed6a4667bd"
      },
      "source": [
        "y.shape"
      ],
      "execution_count": 14,
      "outputs": [
        {
          "output_type": "execute_result",
          "data": {
            "text/plain": [
              "(5000,)"
            ]
          },
          "metadata": {},
          "execution_count": 14
        }
      ]
    },
    {
      "cell_type": "markdown",
      "metadata": {
        "id": "wRGAYmjJQkh0"
      },
      "source": [
        "# Normalization"
      ]
    },
    {
      "cell_type": "code",
      "metadata": {
        "id": "Xr3YGBjfQpfs"
      },
      "source": [
        "from sklearn.preprocessing import MinMaxScaler"
      ],
      "execution_count": 15,
      "outputs": []
    },
    {
      "cell_type": "code",
      "metadata": {
        "id": "SAjfOXwWQ0cf"
      },
      "source": [
        "scaler = MinMaxScaler()\n",
        "X = scaler.fit_transform(X)"
      ],
      "execution_count": 16,
      "outputs": []
    },
    {
      "cell_type": "code",
      "metadata": {
        "colab": {
          "base_uri": "https://localhost:8080/"
        },
        "id": "oecLEsQvRQyI",
        "outputId": "ba5d40e8-38e0-40ce-b480-bbbe176617d0"
      },
      "source": [
        "X"
      ],
      "execution_count": 17,
      "outputs": [
        {
          "output_type": "execute_result",
          "data": {
            "text/plain": [
              "array([[0.81407035, 0.67420814, 0.23076923, ..., 0.23076923, 0.        ,\n",
              "        1.        ],\n",
              "       [0.07035176, 0.80995475, 0.        , ..., 0.61538462, 1.        ,\n",
              "        0.        ],\n",
              "       [0.65326633, 0.54298643, 0.23076923, ..., 0.30769231, 0.        ,\n",
              "        1.        ],\n",
              "       ...,\n",
              "       [0.15577889, 0.80995475, 0.53846154, ..., 0.46153846, 0.        ,\n",
              "        1.        ],\n",
              "       [0.70854271, 0.53846154, 0.46153846, ..., 0.53846154, 1.        ,\n",
              "        1.        ],\n",
              "       [0.70351759, 0.        , 0.38461538, ..., 0.53846154, 1.        ,\n",
              "        1.        ]])"
            ]
          },
          "metadata": {},
          "execution_count": 17
        }
      ]
    },
    {
      "cell_type": "markdown",
      "metadata": {
        "id": "U_OOi74OPmnh"
      },
      "source": [
        "# Train Test Split"
      ]
    },
    {
      "cell_type": "code",
      "metadata": {
        "id": "Rev81EtnPovM"
      },
      "source": [
        "from sklearn.model_selection import train_test_split"
      ],
      "execution_count": 18,
      "outputs": []
    },
    {
      "cell_type": "code",
      "metadata": {
        "id": "9GuQ5gE2Pusu"
      },
      "source": [
        "X_train, X_test, y_train, y_test = train_test_split(X, y, test_size=0.2, random_state=0)"
      ],
      "execution_count": 19,
      "outputs": []
    },
    {
      "cell_type": "code",
      "metadata": {
        "colab": {
          "base_uri": "https://localhost:8080/"
        },
        "id": "ID01C34lQFbu",
        "outputId": "30333c50-16f8-42d4-a899-4eb93aae4194"
      },
      "source": [
        "print(X_train.shape, y_train.shape,\"\\n\", X_test.shape,y_test.shape)"
      ],
      "execution_count": 20,
      "outputs": [
        {
          "output_type": "stream",
          "name": "stdout",
          "text": [
            "(4000, 18) (4000,) \n",
            " (1000, 18) (1000,)\n"
          ]
        }
      ]
    },
    {
      "cell_type": "markdown",
      "metadata": {
        "id": "y6bjSXf0QXuE"
      },
      "source": [
        "# Model"
      ]
    },
    {
      "cell_type": "code",
      "metadata": {
        "id": "vNbbohCFQTHE"
      },
      "source": [
        "from xgboost import XGBClassifier"
      ],
      "execution_count": 21,
      "outputs": []
    },
    {
      "cell_type": "code",
      "metadata": {
        "id": "GzeHY_s9SWkk"
      },
      "source": [
        "model  = XGBClassifier()"
      ],
      "execution_count": 22,
      "outputs": []
    },
    {
      "cell_type": "code",
      "metadata": {
        "colab": {
          "base_uri": "https://localhost:8080/"
        },
        "id": "hhBIt1GLSxxE",
        "outputId": "6433a12d-e6d6-4762-c487-8bccacb19faa"
      },
      "source": [
        "model.fit(X_train,y_train)"
      ],
      "execution_count": 23,
      "outputs": [
        {
          "output_type": "execute_result",
          "data": {
            "text/plain": [
              "XGBClassifier(base_score=0.5, booster='gbtree', colsample_bylevel=1,\n",
              "              colsample_bynode=1, colsample_bytree=1, gamma=0,\n",
              "              learning_rate=0.1, max_delta_step=0, max_depth=3,\n",
              "              min_child_weight=1, missing=None, n_estimators=100, n_jobs=1,\n",
              "              nthread=None, objective='binary:logistic', random_state=0,\n",
              "              reg_alpha=0, reg_lambda=1, scale_pos_weight=1, seed=None,\n",
              "              silent=None, subsample=1, verbosity=1)"
            ]
          },
          "metadata": {},
          "execution_count": 23
        }
      ]
    },
    {
      "cell_type": "code",
      "metadata": {
        "id": "tWETgTWwS-fq"
      },
      "source": [
        "y_pred = model.predict(X_test)"
      ],
      "execution_count": 24,
      "outputs": []
    },
    {
      "cell_type": "code",
      "metadata": {
        "colab": {
          "base_uri": "https://localhost:8080/",
          "height": 419
        },
        "id": "kI94iqslTRHj",
        "outputId": "8b2d73be-0457-4f14-fd9e-f913252a5784"
      },
      "source": [
        "output_check = pd.DataFrame(y_pred,columns=[\"Prediction\"])\n",
        "output_check['Real'] = y_test\n",
        "output_check"
      ],
      "execution_count": 25,
      "outputs": [
        {
          "output_type": "execute_result",
          "data": {
            "text/html": [
              "<div>\n",
              "<style scoped>\n",
              "    .dataframe tbody tr th:only-of-type {\n",
              "        vertical-align: middle;\n",
              "    }\n",
              "\n",
              "    .dataframe tbody tr th {\n",
              "        vertical-align: top;\n",
              "    }\n",
              "\n",
              "    .dataframe thead th {\n",
              "        text-align: right;\n",
              "    }\n",
              "</style>\n",
              "<table border=\"1\" class=\"dataframe\">\n",
              "  <thead>\n",
              "    <tr style=\"text-align: right;\">\n",
              "      <th></th>\n",
              "      <th>Prediction</th>\n",
              "      <th>Real</th>\n",
              "    </tr>\n",
              "  </thead>\n",
              "  <tbody>\n",
              "    <tr>\n",
              "      <th>0</th>\n",
              "      <td>0</td>\n",
              "      <td>0</td>\n",
              "    </tr>\n",
              "    <tr>\n",
              "      <th>1</th>\n",
              "      <td>1</td>\n",
              "      <td>1</td>\n",
              "    </tr>\n",
              "    <tr>\n",
              "      <th>2</th>\n",
              "      <td>1</td>\n",
              "      <td>1</td>\n",
              "    </tr>\n",
              "    <tr>\n",
              "      <th>3</th>\n",
              "      <td>0</td>\n",
              "      <td>0</td>\n",
              "    </tr>\n",
              "    <tr>\n",
              "      <th>4</th>\n",
              "      <td>0</td>\n",
              "      <td>0</td>\n",
              "    </tr>\n",
              "    <tr>\n",
              "      <th>...</th>\n",
              "      <td>...</td>\n",
              "      <td>...</td>\n",
              "    </tr>\n",
              "    <tr>\n",
              "      <th>995</th>\n",
              "      <td>1</td>\n",
              "      <td>1</td>\n",
              "    </tr>\n",
              "    <tr>\n",
              "      <th>996</th>\n",
              "      <td>1</td>\n",
              "      <td>1</td>\n",
              "    </tr>\n",
              "    <tr>\n",
              "      <th>997</th>\n",
              "      <td>0</td>\n",
              "      <td>0</td>\n",
              "    </tr>\n",
              "    <tr>\n",
              "      <th>998</th>\n",
              "      <td>1</td>\n",
              "      <td>1</td>\n",
              "    </tr>\n",
              "    <tr>\n",
              "      <th>999</th>\n",
              "      <td>1</td>\n",
              "      <td>1</td>\n",
              "    </tr>\n",
              "  </tbody>\n",
              "</table>\n",
              "<p>1000 rows × 2 columns</p>\n",
              "</div>"
            ],
            "text/plain": [
              "     Prediction  Real\n",
              "0             0     0\n",
              "1             1     1\n",
              "2             1     1\n",
              "3             0     0\n",
              "4             0     0\n",
              "..          ...   ...\n",
              "995           1     1\n",
              "996           1     1\n",
              "997           0     0\n",
              "998           1     1\n",
              "999           1     1\n",
              "\n",
              "[1000 rows x 2 columns]"
            ]
          },
          "metadata": {},
          "execution_count": 25
        }
      ]
    },
    {
      "cell_type": "code",
      "metadata": {
        "id": "A98XW1prTIpo"
      },
      "source": [
        "from sklearn.metrics import confusion_matrix"
      ],
      "execution_count": 26,
      "outputs": []
    },
    {
      "cell_type": "code",
      "metadata": {
        "colab": {
          "base_uri": "https://localhost:8080/"
        },
        "id": "geJyCLzWTF-L",
        "outputId": "4057d888-265e-46e0-ab46-a717be91e522"
      },
      "source": [
        "cm = confusion_matrix(y_test,y_pred)\n",
        "cm"
      ],
      "execution_count": 27,
      "outputs": [
        {
          "output_type": "execute_result",
          "data": {
            "text/plain": [
              "array([[446,  51],\n",
              "       [ 22, 481]])"
            ]
          },
          "metadata": {},
          "execution_count": 27
        }
      ]
    },
    {
      "cell_type": "code",
      "metadata": {
        "colab": {
          "base_uri": "https://localhost:8080/"
        },
        "id": "Sv7Ra5E7Ujip",
        "outputId": "17485de1-b3ca-4f43-e079-218a1bc8637a"
      },
      "source": [
        "print(\"Accuracy of the model : \", (cm[0][0]+cm[1][1])/(cm[0][0]+cm[0][1]+cm[1][0]+cm[1][1]) *100,\"%\")"
      ],
      "execution_count": 28,
      "outputs": [
        {
          "output_type": "stream",
          "name": "stdout",
          "text": [
            "Accuracy of the model :  92.7 %\n"
          ]
        }
      ]
    }
  ]
}